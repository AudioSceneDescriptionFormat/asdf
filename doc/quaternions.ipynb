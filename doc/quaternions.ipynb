{
 "cells": [
  {
   "cell_type": "markdown",
   "metadata": {},
   "source": [
    "# Converting ASDF Rotations to Quaternions\n",
    "\n",
    "This notebook shows the same thing as the\n",
    "[notebook about rotation matrices](rotation-matrices.ipynb),\n",
    "just using quaternions instead of rotation matrices.\n",
    "For more detailed explanations, have a look over there."
   ]
  },
  {
   "cell_type": "markdown",
   "metadata": {},
   "source": [
    "You might be tempted to use the equations from\n",
    "[Wikipedia](https://en.wikipedia.org/wiki/Conversion_between_quaternions_and_Euler_angles#Euler_angles_(in_3-2-1_sequence)_to_quaternion_conversion),\n",
    "but those use different conventions for axes and angles!\n",
    "The resulting equations will have a similar structure but will not be quite identical.\n",
    "\n",
    "With the code below, any convention can be calculated by adapting\n",
    "\n",
    "* the pairing of angles with their corresponding axes\n",
    "* the sign of angles (or direction of axes) according to handedness\n",
    "* the order of combining the individual axis/angle quaternions"
   ]
  },
  {
   "cell_type": "code",
   "execution_count": null,
   "metadata": {},
   "outputs": [],
   "source": [
    "import sympy as sp"
   ]
  },
  {
   "cell_type": "code",
   "execution_count": null,
   "metadata": {},
   "outputs": [],
   "source": [
    "from sympy.algebras import Quaternion"
   ]
  },
  {
   "cell_type": "code",
   "execution_count": null,
   "metadata": {},
   "outputs": [],
   "source": [
    "alpha, beta, gamma = sp.symbols('alpha beta gamma')"
   ]
  },
  {
   "cell_type": "markdown",
   "metadata": {},
   "source": [
    "## Azimuth: Rotation around the z-Axis"
   ]
  },
  {
   "cell_type": "code",
   "execution_count": null,
   "metadata": {},
   "outputs": [],
   "source": [
    "q_z = Quaternion.from_axis_angle((0, 0, 1), alpha)\n",
    "q_z"
   ]
  },
  {
   "cell_type": "markdown",
   "metadata": {},
   "source": [
    "Example:\n",
    "Rotating the y unit vector (i.e. “looking north”)\n",
    "by 90 degrees to the left:"
   ]
  },
  {
   "cell_type": "code",
   "execution_count": null,
   "metadata": {},
   "outputs": [],
   "source": [
    "Quaternion.rotate_point((0, 1, 0), q_z.subs(alpha, sp.pi / 2))"
   ]
  },
  {
   "cell_type": "markdown",
   "metadata": {},
   "source": [
    "As expected, this yields the negative x unit vector, which points westwards."
   ]
  },
  {
   "cell_type": "markdown",
   "metadata": {},
   "source": [
    "## Elevation: Rotation around the (local) x-Axis"
   ]
  },
  {
   "cell_type": "code",
   "execution_count": null,
   "metadata": {},
   "outputs": [],
   "source": [
    "q_x = Quaternion.from_axis_angle((1, 0, 0), beta)\n",
    "q_x"
   ]
  },
  {
   "cell_type": "markdown",
   "metadata": {},
   "source": [
    "Example:\n",
    "Applying 90 degrees of elevation to\n",
    "the y unit vector:"
   ]
  },
  {
   "cell_type": "code",
   "execution_count": null,
   "metadata": {},
   "outputs": [],
   "source": [
    "Quaternion.rotate_point((0, 1, 0), q_x.subs(beta, sp.pi / 2))"
   ]
  },
  {
   "cell_type": "markdown",
   "metadata": {},
   "source": [
    "As expected, this yields a vector pointing up."
   ]
  },
  {
   "cell_type": "markdown",
   "metadata": {},
   "source": [
    "## Roll: Rotation around the (local) y-Axis"
   ]
  },
  {
   "cell_type": "code",
   "execution_count": null,
   "metadata": {},
   "outputs": [],
   "source": [
    "q_y = Quaternion.from_axis_angle((0, 1, 0), gamma)\n",
    "q_y"
   ]
  },
  {
   "cell_type": "markdown",
   "metadata": {},
   "source": [
    "Example: Applying a roll angle of 90 degrees to a vector pointing up:"
   ]
  },
  {
   "cell_type": "code",
   "execution_count": null,
   "metadata": {},
   "outputs": [],
   "source": [
    "Quaternion.rotate_point((0, 0, 1), q_y.subs(gamma, sp.pi / 2))"
   ]
  },
  {
   "cell_type": "markdown",
   "metadata": {},
   "source": [
    "As expected, this yields a vector pointing east."
   ]
  },
  {
   "cell_type": "markdown",
   "metadata": {},
   "source": [
    "## Combining all Axes\n",
    "\n",
    "This is easy,\n",
    "we only have to make sure to use the right order.\n",
    "As with rotation matrices,\n",
    "you should read this from right to left\n",
    "(first *roll*, then *elevation*, then *azimuth*):"
   ]
  },
  {
   "cell_type": "code",
   "execution_count": null,
   "metadata": {},
   "outputs": [],
   "source": [
    "q = q_z * q_x * q_y\n",
    "q"
   ]
  },
  {
   "cell_type": "markdown",
   "metadata": {},
   "source": [
    "If you want to copy-paste this:"
   ]
  },
  {
   "cell_type": "code",
   "execution_count": null,
   "metadata": {},
   "outputs": [],
   "source": [
    "print(q)"
   ]
  },
  {
   "cell_type": "markdown",
   "metadata": {},
   "source": [
    "But you should probably pre-calculate the used terms\n",
    "in order to avoid repeated evaluation of the same functions.\n",
    "You could try something like this, for example:"
   ]
  },
  {
   "cell_type": "code",
   "execution_count": null,
   "metadata": {},
   "outputs": [],
   "source": [
    "q.subs([\n",
    "    (sp.sin(alpha/2), sp.symbols('s_alpha')),\n",
    "    (sp.sin(beta/2), sp.symbols('s_beta')),\n",
    "    (sp.sin(gamma/2), sp.symbols('s_gamma')),\n",
    "    (sp.cos(alpha/2), sp.symbols('c_alpha')),\n",
    "    (sp.cos(beta/2), sp.symbols('c_beta')),\n",
    "    (sp.cos(gamma/2), sp.symbols('c_gamma')),\n",
    "])"
   ]
  },
  {
   "cell_type": "code",
   "execution_count": null,
   "metadata": {},
   "outputs": [],
   "source": [
    "print(_)"
   ]
  },
  {
   "cell_type": "markdown",
   "metadata": {},
   "source": [
    "## Quaternion to Rotation Matrix\n",
    "\n",
    "Just to make sure the result is the same as in the\n",
    "[notebook about rotation matrices](rotation-matrices.ipynb#Combining-all-Axes),\n",
    "let's calculate the rotation matrix from our quaternion.\n",
    "\n",
    "For some reason, SymPy seems to need two simplification steps for this ..."
   ]
  },
  {
   "cell_type": "code",
   "execution_count": null,
   "metadata": {},
   "outputs": [],
   "source": [
    "R = sp.trigsimp(sp.trigsimp(q.to_rotation_matrix()))\n",
    "R"
   ]
  },
  {
   "cell_type": "markdown",
   "metadata": {},
   "source": [
    "## Quaternion to ASDF rotations\n",
    "\n",
    "Again, please note that the equations from\n",
    "[Wikipedia](https://en.wikipedia.org/wiki/Conversion_between_quaternions_and_Euler_angles#Quaternion_to_Euler_angles_(in_3-2-1_sequence)_conversion)\n",
    "use different conventions for axes and angles."
   ]
  },
  {
   "cell_type": "markdown",
   "metadata": {},
   "source": [
    "We already know how to convert a rotation matrix to ASDF angles,\n",
    "and we know how to convert a quaternion to a rotation matrix,\n",
    "so let's try that:"
   ]
  },
  {
   "cell_type": "code",
   "execution_count": null,
   "metadata": {},
   "outputs": [],
   "source": [
    "a, b, c, d = sp.symbols('a:d')"
   ]
  },
  {
   "cell_type": "code",
   "execution_count": null,
   "metadata": {},
   "outputs": [],
   "source": [
    "sp.simplify(sp.Quaternion(a, b, c, d).to_rotation_matrix())"
   ]
  },
  {
   "cell_type": "markdown",
   "metadata": {},
   "source": [
    "Since we assume a unit quaternion, all the denominators are actually 1."
   ]
  },
  {
   "cell_type": "code",
   "execution_count": null,
   "metadata": {},
   "outputs": [],
   "source": [
    "Rq = sp.simplify(sp.Quaternion(a, b, c, d).to_rotation_matrix().subs(a**2 + b**2 + c**2 + d**2, 1))\n",
    "Rq"
   ]
  },
  {
   "cell_type": "markdown",
   "metadata": {},
   "source": [
    "The [notebook about rotation matrices](rotation-matrices.ipynb#Rotation-Matrix-to-Angles)\n",
    "shows how to obtain $\\alpha$, $\\beta$ and $\\gamma$ from this matrix.\n",
    "\n",
    "We can get $\\alpha$ from the top middle and the central element:"
   ]
  },
  {
   "cell_type": "code",
   "execution_count": null,
   "metadata": {},
   "outputs": [],
   "source": [
    "sp.atan2(-Rq[0, 1], Rq[1, 1])"
   ]
  },
  {
   "cell_type": "code",
   "execution_count": null,
   "metadata": {},
   "outputs": [],
   "source": [
    "print(_)"
   ]
  },
  {
   "cell_type": "markdown",
   "metadata": {},
   "source": [
    "The bottom middle element provides $\\beta$:"
   ]
  },
  {
   "cell_type": "code",
   "execution_count": null,
   "metadata": {},
   "outputs": [],
   "source": [
    "sp.asin(Rq[2, 1])"
   ]
  },
  {
   "cell_type": "code",
   "execution_count": null,
   "metadata": {},
   "outputs": [],
   "source": [
    "print(_)"
   ]
  },
  {
   "cell_type": "markdown",
   "metadata": {},
   "source": [
    "<div class=\"alert alert-info\">\n",
    "\n",
    "**Note:**\n",
    "\n",
    "As mentioned in the\n",
    "[notebook about rotation matrices](rotation-matrices.ipynb#Rotation-Matrix-to-Angles),\n",
    "the argument of the `asin()` function has to be in the domain `[-1.0; 1.0]`.\n",
    "\n",
    "Make sure to handle this case,\n",
    "e.g. by re-normalizing the quaternion.\n",
    "\n",
    "</div>"
   ]
  },
  {
   "cell_type": "markdown",
   "metadata": {},
   "source": [
    "Finally, $\\gamma$ can be obtained from the bottom left and right elements:"
   ]
  },
  {
   "cell_type": "code",
   "execution_count": null,
   "metadata": {},
   "outputs": [],
   "source": [
    "sp.atan2(-Rq[2, 0], Rq[2, 2])"
   ]
  },
  {
   "cell_type": "code",
   "execution_count": null,
   "metadata": {},
   "outputs": [],
   "source": [
    "print(_)"
   ]
  },
  {
   "cell_type": "markdown",
   "metadata": {},
   "source": [
    "### Gimbal Lock\n",
    "\n",
    "As shown in the\n",
    "[notebook about rotation matrices](rotation-matrices.ipynb#Gimbal-Lock),\n",
    "there is a problem when $\\beta = \\pm 90$ degrees."
   ]
  },
  {
   "cell_type": "markdown",
   "metadata": {},
   "source": [
    "For $\\beta = 90$ degrees (which means $2ab+2cd = 1$),\n",
    "we can obtain a value for $\\alpha + \\gamma$:"
   ]
  },
  {
   "cell_type": "code",
   "execution_count": null,
   "metadata": {},
   "outputs": [],
   "source": [
    "sp.atan2(Rq[0, 2], -Rq[1, 2])"
   ]
  },
  {
   "cell_type": "code",
   "execution_count": null,
   "metadata": {},
   "outputs": [],
   "source": [
    "print(_)"
   ]
  },
  {
   "cell_type": "markdown",
   "metadata": {},
   "source": [
    "If we for example choose this value to be $\\alpha$,\n",
    "this will result in $\\gamma = 0$.\n",
    "\n",
    "Alternatively, we can use this expression:"
   ]
  },
  {
   "cell_type": "code",
   "execution_count": null,
   "metadata": {},
   "outputs": [],
   "source": [
    "sp.atan2(Rq[1, 0], Rq[0, 0])"
   ]
  },
  {
   "cell_type": "code",
   "execution_count": null,
   "metadata": {},
   "outputs": [],
   "source": [
    "print(_)"
   ]
  },
  {
   "cell_type": "markdown",
   "metadata": {},
   "source": [
    "For $\\beta = -90$ degrees (which means $2ab+2cd = -1$),\n",
    "we can use the following expression for $\\alpha + \\gamma$:"
   ]
  },
  {
   "cell_type": "code",
   "execution_count": null,
   "metadata": {},
   "outputs": [],
   "source": [
    "sp.atan2(-Rq[0, 2], Rq[1, 2])"
   ]
  },
  {
   "cell_type": "code",
   "execution_count": null,
   "metadata": {},
   "outputs": [],
   "source": [
    "print(_)"
   ]
  },
  {
   "cell_type": "markdown",
   "metadata": {},
   "source": [
    "Again, if we for example choose this value to be $\\alpha$,\n",
    "this will result in $\\gamma = 0$.\n",
    "\n",
    "Alternatively, we can use this expression:"
   ]
  },
  {
   "cell_type": "code",
   "execution_count": null,
   "metadata": {},
   "outputs": [],
   "source": [
    "sp.atan2(Rq[1, 0], Rq[0, 0])"
   ]
  },
  {
   "cell_type": "code",
   "execution_count": null,
   "metadata": {},
   "outputs": [],
   "source": [
    "print(_)"
   ]
  }
 ],
 "metadata": {
  "kernelspec": {
   "display_name": "Python 3",
   "language": "python",
   "name": "python3"
  },
  "language_info": {
   "codemirror_mode": {
    "name": "ipython",
    "version": 3
   },
   "file_extension": ".py",
   "mimetype": "text/x-python",
   "name": "python",
   "nbconvert_exporter": "python",
   "pygments_lexer": "ipython3",
   "version": "3.7.5"
  }
 },
 "nbformat": 4,
 "nbformat_minor": 4
}
