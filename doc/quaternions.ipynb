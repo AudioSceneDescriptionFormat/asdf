{
 "cells": [
  {
   "cell_type": "markdown",
   "metadata": {},
   "source": [
    "# Converting ASDF Rotations to Quaternions\n",
    "\n",
    "This notebook shows the same thing as the\n",
    "[notebook about rotation matrices](rotation-matrices.ipynb),\n",
    "just using quaternions instead of rotation matrices.\n",
    "For more details, have a look over there."
   ]
  },
  {
   "cell_type": "code",
   "execution_count": null,
   "metadata": {},
   "outputs": [],
   "source": [
    "import sympy as sp"
   ]
  },
  {
   "cell_type": "code",
   "execution_count": null,
   "metadata": {},
   "outputs": [],
   "source": [
    "from sympy.algebras import Quaternion"
   ]
  },
  {
   "cell_type": "code",
   "execution_count": null,
   "metadata": {},
   "outputs": [],
   "source": [
    "alpha, beta, gamma = sp.symbols('alpha beta gamma')"
   ]
  },
  {
   "cell_type": "markdown",
   "metadata": {},
   "source": [
    "## Azimuth: Rotation around the z-Axis"
   ]
  },
  {
   "cell_type": "code",
   "execution_count": null,
   "metadata": {},
   "outputs": [],
   "source": [
    "q_z = Quaternion.from_axis_angle((0, 0, 1), alpha)\n",
    "q_z"
   ]
  },
  {
   "cell_type": "markdown",
   "metadata": {},
   "source": [
    "Example:\n",
    "Rotating the y unit vector (i.e. “looking straight ahead”)\n",
    "by 90 degrees to the left:"
   ]
  },
  {
   "cell_type": "code",
   "execution_count": null,
   "metadata": {},
   "outputs": [],
   "source": [
    "Quaternion.rotate_point((0, 1, 0), q_z.subs(alpha, sp.pi / 2))"
   ]
  },
  {
   "cell_type": "markdown",
   "metadata": {},
   "source": [
    "As expected, this yields the negative x unit vector, which points westwards."
   ]
  },
  {
   "cell_type": "markdown",
   "metadata": {},
   "source": [
    "## Elevation: Rotation around the (local) x-Axis"
   ]
  },
  {
   "cell_type": "code",
   "execution_count": null,
   "metadata": {},
   "outputs": [],
   "source": [
    "q_x = Quaternion.from_axis_angle((1, 0, 0), beta)\n",
    "q_x"
   ]
  },
  {
   "cell_type": "markdown",
   "metadata": {},
   "source": [
    "Example:\n",
    "Applying 90 degrees of elevation to\n",
    "the y unit vector:"
   ]
  },
  {
   "cell_type": "code",
   "execution_count": null,
   "metadata": {},
   "outputs": [],
   "source": [
    "Quaternion.rotate_point((0, 1, 0), q_x.subs(beta, sp.pi / 2))"
   ]
  },
  {
   "cell_type": "markdown",
   "metadata": {},
   "source": [
    "As expected, this yields a vector pointing up."
   ]
  },
  {
   "cell_type": "markdown",
   "metadata": {},
   "source": [
    "## Roll: Rotation around the (local) y-Axis"
   ]
  },
  {
   "cell_type": "code",
   "execution_count": null,
   "metadata": {},
   "outputs": [],
   "source": [
    "q_y = Quaternion.from_axis_angle((0, 1, 0), gamma)\n",
    "q_y"
   ]
  },
  {
   "cell_type": "markdown",
   "metadata": {},
   "source": [
    "Example: Applying a roll angle of 90 degrees to a vector pointing up:"
   ]
  },
  {
   "cell_type": "code",
   "execution_count": null,
   "metadata": {},
   "outputs": [],
   "source": [
    "Quaternion.rotate_point((0, 0, 1), q_y.subs(gamma, sp.pi / 2))"
   ]
  },
  {
   "cell_type": "markdown",
   "metadata": {},
   "source": [
    "As expected, this yields a vector pointing east."
   ]
  },
  {
   "cell_type": "markdown",
   "metadata": {},
   "source": [
    "## Combining all Axes\n",
    "\n",
    "This is easy,\n",
    "we only have to make sure to use the right order.\n",
    "As with rotation matrices,\n",
    "you should read this from right to left:"
   ]
  },
  {
   "cell_type": "code",
   "execution_count": null,
   "metadata": {},
   "outputs": [],
   "source": [
    "q = q_z * q_x * q_y\n",
    "q"
   ]
  },
  {
   "cell_type": "markdown",
   "metadata": {},
   "source": [
    "If you want to copy-paste this:"
   ]
  },
  {
   "cell_type": "code",
   "execution_count": null,
   "metadata": {},
   "outputs": [],
   "source": [
    "print(q)"
   ]
  },
  {
   "cell_type": "markdown",
   "metadata": {},
   "source": [
    "But you should probably pre-calculate the used terms\n",
    "in order to avoid repeated evaluation of the same functions.\n",
    "You could try something like this, for example:"
   ]
  },
  {
   "cell_type": "code",
   "execution_count": null,
   "metadata": {},
   "outputs": [],
   "source": [
    "q.subs([\n",
    "    (sp.sin(alpha/2), sp.symbols('s_alpha')),\n",
    "    (sp.sin(beta/2), sp.symbols('s_beta')),\n",
    "    (sp.sin(gamma/2), sp.symbols('s_gamma')),\n",
    "    (sp.cos(alpha/2), sp.symbols('c_alpha')),\n",
    "    (sp.cos(beta/2), sp.symbols('c_beta')),\n",
    "    (sp.cos(gamma/2), sp.symbols('c_gamma')),\n",
    "])"
   ]
  },
  {
   "cell_type": "code",
   "execution_count": null,
   "metadata": {},
   "outputs": [],
   "source": [
    "print(_)"
   ]
  },
  {
   "cell_type": "markdown",
   "metadata": {},
   "source": [
    "## Quaternion to Rotation Matrix\n",
    "\n",
    "Just to make sure the result is the same as in the\n",
    "[notebook about rotation matrices](rotation-matrices.ipynb#Combining-all-Axes),\n",
    "let's calculate the rotation matrix from our quaternion.\n",
    "\n",
    "For some reason, SymPy seems to need two simplification steps for this ..."
   ]
  },
  {
   "cell_type": "code",
   "execution_count": null,
   "metadata": {},
   "outputs": [],
   "source": [
    "R = sp.trigsimp(sp.trigsimp(q.to_rotation_matrix()))\n",
    "R"
   ]
  }
 ],
 "metadata": {
  "kernelspec": {
   "display_name": "Python 3",
   "language": "python",
   "name": "python3"
  },
  "language_info": {
   "codemirror_mode": {
    "name": "ipython",
    "version": 3
   },
   "file_extension": ".py",
   "mimetype": "text/x-python",
   "name": "python",
   "nbconvert_exporter": "python",
   "pygments_lexer": "ipython3",
   "version": "3.7.4+"
  }
 },
 "nbformat": 4,
 "nbformat_minor": 4
}
