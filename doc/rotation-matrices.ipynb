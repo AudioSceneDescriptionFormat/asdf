{
 "cells": [
  {
   "cell_type": "markdown",
   "metadata": {},
   "source": [
    "# Converting ASDF Rotations to Rotation Matrices\n",
    "\n",
    "To rotate objects in an ASDF scene,\n",
    "you can use *azimuth*, *elevation* and *roll* angles,\n",
    "for example like this:\n",
    "\n",
    "```xml\n",
    "<... rot=\"-30 12.5 5\">\n",
    "```\n",
    "\n",
    "The used coordinate system conventions are shown in the\n",
    "[section about position and orientation](position-orientation.rst).\n",
    "\n",
    "In this section we show how these angles can be converted to\n",
    "[rotation matrices](https://en.wikipedia.org/wiki/Rotation_matrix),\n",
    "in order to practically use those rotations in software."
   ]
  },
  {
   "cell_type": "markdown",
   "metadata": {},
   "source": [
    "There isn't just a single way to choose rotation angles in 3D space,\n",
    "in fact, there are very many ways to do this,\n",
    "many of them leading to different rotation matrices.\n",
    "\n",
    "Here's a (hopefully somewhat complete)\n",
    "overview about the possible options and the choices taken by the ASDF:\n",
    "\n",
    "* Right-handed vs. left-handed [coordinate system](https://en.wikipedia.org/wiki/Coordinate_system):\n",
    "  The ASDF uses a right-handed one.\n",
    "\n",
    "* Direction of the axes:\n",
    "  The ASDF uses the \"ENU\" (east, north, up) convention.\n",
    "\n",
    "* [Euler angles vs. Tait-Bryan angles](https://en.wikipedia.org/wiki/Euler_angles):\n",
    "  The ASDF uses a variation of Tait-Bryan.\n",
    "\n",
    "* There many [possible conventions](https://en.wikipedia.org/wiki/Axes_conventions)\n",
    "  for the order of angles\n",
    "  and which axes they rotate around:\n",
    "  The ASDF conventions are shown in detail below.\n",
    "\n",
    "* [\"intrinsic\"](https://en.wikipedia.org/wiki/Euler_angles#Definition_by_intrinsic_rotations)\n",
    "  vs. [\"extrinsic\"](https://en.wikipedia.org/wiki/Euler_angles#Definition_by_extrinsic_rotations)\n",
    "  = \"local\" vs. \"global\" reference system:\n",
    "  This sounds complicated, but it's really just about the order of transformations.\n",
    "  See below for details.\n",
    "\n",
    "* [Rotating vectors (= \"active\" = \"alibi\")\n",
    "  vs. rotating the coordinate system (= \"passive\" = \"alias\")](https://en.wikipedia.org/wiki/Active_and_passive_transformation):\n",
    "  In the following derivations we consider the \"active\" situation,\n",
    "  but a similar derivation can be done for the \"passive\" case.  \n",
    "  In case you are wondering: the functions\n",
    "  [sympy.matrices.rot_axis1()](https://docs.sympy.org/latest/modules/matrices/matrices.html#sympy.matrices.dense.rot_axis1)\n",
    "  etc. do the latter, therefore we cannot use them here\n",
    "  (at least not without some further manipulations).\n",
    "\n",
    "* Rotation matrices can be derived for [pre-multiplication with column vectors\n",
    "  vs. post-multiplication with row vectors](https://en.wikipedia.org/wiki/Rotation_matrix#Ambiguities):\n",
    "  We are using column vectors here,\n",
    "  but (different) matrices could be derived for use with row vectors."
   ]
  },
  {
   "cell_type": "markdown",
   "metadata": {},
   "source": [
    "Let's get started then, shall we?\n",
    "\n",
    "First we import [SymPy](https://www.sympy.org/),\n",
    "which is great for doing this kind of symbolic derivations:"
   ]
  },
  {
   "cell_type": "code",
   "execution_count": null,
   "metadata": {},
   "outputs": [],
   "source": [
    "import sympy as sp"
   ]
  },
  {
   "cell_type": "markdown",
   "metadata": {},
   "source": [
    "We have to define our three input angles.\n",
    "These are often called\n",
    "*azimuth/elevation/roll*,\n",
    "or *yaw/pitch/roll*,\n",
    "or *heading/elevation/bank*.\n",
    "\n",
    "Here we just use the greek letters\n",
    "$\\alpha$, $\\beta$ and $\\gamma$:"
   ]
  },
  {
   "cell_type": "code",
   "execution_count": null,
   "metadata": {},
   "outputs": [],
   "source": [
    "alpha, beta, gamma = sp.symbols('alpha beta gamma')"
   ]
  },
  {
   "cell_type": "markdown",
   "metadata": {},
   "source": [
    "The ASDF uses an \"ENU\" (east, north, up) coordinate system\n",
    "and the reference (\"forward\") direction is *north*,\n",
    "i.e. along the positive y-axis."
   ]
  },
  {
   "cell_type": "code",
   "execution_count": null,
   "metadata": {},
   "outputs": [],
   "source": [
    "alpha"
   ]
  },
  {
   "cell_type": "markdown",
   "metadata": {},
   "source": [
    "The *azimuth* angle $\\alpha$ is:\n",
    "\n",
    "* zero when pointing north (i.e. along the positive y-axis),\n",
    "* rotating around the z-axis (which points up)\n",
    "* positive when rotating towards west\n",
    "  ([right hand rule](https://en.wikipedia.org/wiki/Right-hand_rule))."
   ]
  },
  {
   "cell_type": "code",
   "execution_count": null,
   "metadata": {},
   "outputs": [],
   "source": [
    "beta"
   ]
  },
  {
   "cell_type": "markdown",
   "metadata": {},
   "source": [
    "The *elevation* angle $\\beta$ is:\n",
    "\n",
    "* zero in the horizontal plane,\n",
    "* rotating around the *local* x-axis\n",
    "* positive when the nose goes up (right hand rule)."
   ]
  },
  {
   "cell_type": "code",
   "execution_count": null,
   "metadata": {},
   "outputs": [],
   "source": [
    "gamma"
   ]
  },
  {
   "cell_type": "markdown",
   "metadata": {},
   "source": [
    "The *roll* angle $\\gamma$ is:\n",
    "\n",
    "* zero when the *top* of the object points to the zenith\n",
    "  (which is just the normal \"upright\" orientation),\n",
    "* rotating around the local y-axis\n",
    "* positive when the object is leaning towards\n",
    "  [starbord](https://en.wikipedia.org/wiki/Port_and_starboard)\n",
    "  (right hand rule)."
   ]
  },
  {
   "cell_type": "markdown",
   "metadata": {},
   "source": [
    "The definitions above use the \"intrinsic\" way of describing the rotations\n",
    "(i.e. relative to \"local\" coordinate axes).\n",
    "\n",
    "If you want to use the \"extrinsic\" way,\n",
    "you can use the same angles.\n",
    "You just have to choose the right order of (\"global\") rotations:\n",
    "First *roll*, then *elevation*, then *azimuth*.\n",
    "We will be using the \"extrinsic\" style below."
   ]
  },
  {
   "cell_type": "markdown",
   "metadata": {},
   "source": [
    "Let's also define the cartesian components of a vector $a$:"
   ]
  },
  {
   "cell_type": "code",
   "execution_count": null,
   "metadata": {},
   "outputs": [],
   "source": [
    "a_x, a_y, a_z = sp.symbols('a_x:z')"
   ]
  },
  {
   "cell_type": "markdown",
   "metadata": {},
   "source": [
    "We will need those only during the derivation,\n",
    "they will not appear in the final equations."
   ]
  },
  {
   "cell_type": "markdown",
   "metadata": {},
   "source": [
    "## Azimuth: Rotation around the z-Axis\n",
    "\n",
    "Writing the vector $a$ in cylindrical coordinates\n",
    "$r_z$ (radius), $\\phi_z$ (angle) and $a_z$ (height):"
   ]
  },
  {
   "cell_type": "code",
   "execution_count": null,
   "metadata": {},
   "outputs": [],
   "source": [
    "r_z, phi_z = sp.symbols('r_z phi_z')"
   ]
  },
  {
   "cell_type": "markdown",
   "metadata": {},
   "source": [
    "... we can get its cartesian coordinates like this:"
   ]
  },
  {
   "cell_type": "code",
   "execution_count": null,
   "metadata": {},
   "outputs": [],
   "source": [
    "a = sp.Matrix([\n",
    "    r_z * sp.cos(phi_z),\n",
    "    r_z * sp.sin(phi_z),\n",
    "    a_z,\n",
    "])\n",
    "a"
   ]
  },
  {
   "cell_type": "markdown",
   "metadata": {},
   "source": [
    "We are using column vectors here,\n",
    "that means we are searching for a rotation matrix\n",
    "to left-multiply this vector in order to get the vector $b$."
   ]
  },
  {
   "cell_type": "markdown",
   "metadata": {},
   "source": [
    "To get a representation of the vector $b$,\n",
    "let's rotate $a$ by an azimuth angle $\\alpha$:"
   ]
  },
  {
   "cell_type": "code",
   "execution_count": null,
   "metadata": {},
   "outputs": [],
   "source": [
    "b = sp.Matrix([\n",
    "    r_z * sp.cos(phi_z + alpha),\n",
    "    r_z * sp.sin(phi_z + alpha),\n",
    "    a_z,\n",
    "])\n",
    "b"
   ]
  },
  {
   "cell_type": "markdown",
   "metadata": {},
   "source": [
    "Note that $a_z$ is not affected by the rotation.\n",
    "\n",
    "We can use some trigonometric identities\n",
    "to expand this:"
   ]
  },
  {
   "cell_type": "code",
   "execution_count": null,
   "metadata": {},
   "outputs": [],
   "source": [
    "b = b.expand(trig=True)\n",
    "b"
   ]
  },
  {
   "cell_type": "markdown",
   "metadata": {},
   "source": [
    "... and re-write it using the (cartesian) coordinates of vector $a$:\n",
    "$a_x$, $a_y$ and $a_z$:"
   ]
  },
  {
   "cell_type": "code",
   "execution_count": null,
   "metadata": {},
   "outputs": [],
   "source": [
    "b = b.subs(list(zip(a, [a_x, a_y, a_z])))\n",
    "b"
   ]
  },
  {
   "cell_type": "markdown",
   "metadata": {},
   "source": [
    "Remember, we are looking for a rotation matrix that,\n",
    "when $a$ is left-multiplied by it, yields $b$.\n",
    "\n",
    "In other words (or rather symbols):\n",
    "\n",
    "\\begin{equation}\n",
    "\\begin{bmatrix}\n",
    "b_x\\\\\n",
    "b_y\\\\\n",
    "b_z\n",
    "\\end{bmatrix}\n",
    "= R_z(\\alpha)\n",
    "\\begin{bmatrix}\n",
    "a_x\\\\\n",
    "a_y\\\\\n",
    "a_z\n",
    "\\end{bmatrix}\n",
    "\\end{equation}"
   ]
  },
  {
   "cell_type": "markdown",
   "metadata": {},
   "source": [
    "Given the components of $b$ shown above,\n",
    "we can simply pick out the matrix elements.\n",
    "\n",
    "Or we let SymPy do it:"
   ]
  },
  {
   "cell_type": "code",
   "execution_count": null,
   "metadata": {},
   "outputs": [],
   "source": [
    "Rz = sp.Matrix([[line.coeff(var) for var in [a_x, a_y, a_z]]\n",
    "                for line in b])\n",
    "Rz"
   ]
  },
  {
   "cell_type": "markdown",
   "metadata": {},
   "source": [
    "That's it!\n",
    "\n",
    "Let's do a little sanity check,\n",
    "rotating the y unit vector (i.e. \"looking straight ahead\") by 90 degrees to the left:"
   ]
  },
  {
   "cell_type": "code",
   "execution_count": null,
   "metadata": {},
   "outputs": [],
   "source": [
    "Rz.subs(alpha, sp.pi / 2) * sp.Matrix([0, 1, 0])"
   ]
  },
  {
   "cell_type": "markdown",
   "metadata": {},
   "source": [
    "This yields the negative x unit vector, which points westwards.\n",
    "That sounds about right!"
   ]
  },
  {
   "cell_type": "markdown",
   "metadata": {},
   "source": [
    "## Elevation: Rotation around the (local) x-Axis\n",
    "\n",
    "Now the same thing, just using a different vector $a$."
   ]
  },
  {
   "cell_type": "code",
   "execution_count": null,
   "metadata": {},
   "outputs": [],
   "source": [
    "r_x, phi_x = sp.symbols('r_x phi_x')\n",
    "a = sp.Matrix([\n",
    "    a_x,\n",
    "    r_x * sp.cos(phi_x),\n",
    "    r_x * sp.sin(phi_x),\n",
    "])\n",
    "a"
   ]
  },
  {
   "cell_type": "markdown",
   "metadata": {},
   "source": [
    "Let's rotate $a$ by the elevation angle $\\beta$\n",
    "to get a vector $b$:"
   ]
  },
  {
   "cell_type": "code",
   "execution_count": null,
   "metadata": {},
   "outputs": [],
   "source": [
    "b = sp.Matrix([\n",
    "    a_x,\n",
    "    r_x * sp.cos(phi_x + beta),\n",
    "    r_x * sp.sin(phi_x + beta),\n",
    "])\n",
    "b"
   ]
  },
  {
   "cell_type": "markdown",
   "metadata": {},
   "source": [
    "Again, expand using trig identities and substitute $a$ back in:"
   ]
  },
  {
   "cell_type": "code",
   "execution_count": null,
   "metadata": {},
   "outputs": [],
   "source": [
    "b = b.expand(trig=True).subs(list(zip(a, [a_x, a_y, a_z])))\n",
    "b"
   ]
  },
  {
   "cell_type": "markdown",
   "metadata": {},
   "source": [
    "... and obtain a matrix $R_x(\\beta)$ that transforms $a$ into $b$:"
   ]
  },
  {
   "cell_type": "code",
   "execution_count": null,
   "metadata": {},
   "outputs": [],
   "source": [
    "Rx = sp.Matrix([[line.coeff(var) for var in [a_x, a_y, a_z]]\n",
    "                for line in b])\n",
    "Rx"
   ]
  },
  {
   "cell_type": "markdown",
   "metadata": {},
   "source": [
    "And again a sanity check,\n",
    "this time using an elevation of 90 degrees:"
   ]
  },
  {
   "cell_type": "code",
   "execution_count": null,
   "metadata": {},
   "outputs": [],
   "source": [
    "Rx.subs(beta, sp.pi / 2) * sp.Matrix([0, 1, 0])"
   ]
  },
  {
   "cell_type": "markdown",
   "metadata": {},
   "source": [
    "The result is a vector pointing up, which is what we expected,\n",
    "didn't we?"
   ]
  },
  {
   "cell_type": "markdown",
   "metadata": {},
   "source": [
    "## Roll: Rotation around the (local) y-Axis\n",
    "\n",
    "Doing very similar steps as before:"
   ]
  },
  {
   "cell_type": "code",
   "execution_count": null,
   "metadata": {},
   "outputs": [],
   "source": [
    "r_y, phi_y = sp.symbols('r_y phi_y')\n",
    "a = sp.Matrix([\n",
    "    r_y * sp.sin(phi_y),\n",
    "    a_y,\n",
    "    r_y * sp.cos(phi_y),\n",
    "])\n",
    "a"
   ]
  },
  {
   "cell_type": "code",
   "execution_count": null,
   "metadata": {},
   "outputs": [],
   "source": [
    "b = sp.Matrix([\n",
    "    r_y * sp.sin(phi_y + gamma),\n",
    "    a_y,\n",
    "    r_y * sp.cos(phi_y + gamma),\n",
    "])\n",
    "b"
   ]
  },
  {
   "cell_type": "code",
   "execution_count": null,
   "metadata": {},
   "outputs": [],
   "source": [
    "b = b.expand(trig=True).subs(list(zip(a, [a_x, a_y, a_z])))\n",
    "b"
   ]
  },
  {
   "cell_type": "code",
   "execution_count": null,
   "metadata": {},
   "outputs": [],
   "source": [
    "Ry = sp.Matrix([[line.coeff(var) for var in [a_x, a_y, a_z]]\n",
    "                for line in b])\n",
    "Ry"
   ]
  },
  {
   "cell_type": "markdown",
   "metadata": {},
   "source": [
    "Sanity check:\n",
    "Applying a *roll* angle of 90 degrees\n",
    "to a vector pointing up ..."
   ]
  },
  {
   "cell_type": "code",
   "execution_count": null,
   "metadata": {},
   "outputs": [],
   "source": [
    "Ry.subs(gamma, sp.pi / 2) * sp.Matrix([0, 0, 1])"
   ]
  },
  {
   "cell_type": "markdown",
   "metadata": {},
   "source": [
    "... leads to a vector pointing east. This is what we wanted."
   ]
  },
  {
   "cell_type": "markdown",
   "metadata": {},
   "source": [
    "## Combining all Axes\n",
    "\n",
    "As mentioned above,\n",
    "we have to choose the right sequence of (global) rotations:\n",
    "first \"roll\", then \"elevation\", then \"azimuth\".\n",
    "\n",
    "Note that we start with $R_y$ (roll) *on the right*,\n",
    "and then left-apply $R_x$ (elevation)\n",
    "and then left-apply $R_z$ (azimuth).\n",
    "\n",
    "You should read this from right to left:"
   ]
  },
  {
   "cell_type": "code",
   "execution_count": null,
   "metadata": {},
   "outputs": [],
   "source": [
    "R = Rz * Rx * Ry\n",
    "R"
   ]
  },
  {
   "cell_type": "markdown",
   "metadata": {},
   "source": [
    "That's it, that's our rotation matrix!\n",
    "\n",
    "Copy this to use it with SymPy (you'll have to import `Matrix`, `sin` and `cos`\n",
    "and define `alpha`, `beta` and `gamma`):"
   ]
  },
  {
   "cell_type": "code",
   "execution_count": null,
   "metadata": {},
   "outputs": [],
   "source": [
    "print(R)"
   ]
  },
  {
   "cell_type": "markdown",
   "metadata": {},
   "source": [
    "If you want to use it with NumPy, you can copy this\n",
    "(you'll have to import `numpy` and define `alpha`, `beta` and `gamma`):"
   ]
  },
  {
   "cell_type": "code",
   "execution_count": null,
   "metadata": {},
   "outputs": [],
   "source": [
    "from sympy.printing.pycode import NumPyPrinter\n",
    "print(NumPyPrinter().doprint(R))"
   ]
  },
  {
   "cell_type": "markdown",
   "metadata": {},
   "source": [
    "## Rotation Matrix to Angles\n",
    "\n",
    "You may ask: how can we get back from the rotation matrix to our angles?\n",
    "\n",
    "If you look at the matrix $R$ above,\n",
    "you see that one component only depends on one variable.\n",
    "Namely, the component in the last row, middle column:"
   ]
  },
  {
   "cell_type": "code",
   "execution_count": null,
   "metadata": {},
   "outputs": [],
   "source": [
    "R[2, 1]"
   ]
  },
  {
   "cell_type": "markdown",
   "metadata": {},
   "source": [
    "Therefore, we can get the value of $\\beta$\n",
    "simply by taking the arc-sine of this matrix element.\n",
    "In a numeric calculation, this would probably look something like:\n",
    "\n",
    "    beta = asin(R[2, 1])\n",
    "\n",
    "The rest of the matrix components depend on more than one variable,\n",
    "but there are a few elements that depend only on two variables.\n",
    "\n",
    "If we divide the top middle component (multiplied by $-1$) by the one below:"
   ]
  },
  {
   "cell_type": "code",
   "execution_count": null,
   "metadata": {},
   "outputs": [],
   "source": [
    "-R[0, 1] / R[1, 1]"
   ]
  },
  {
   "cell_type": "markdown",
   "metadata": {},
   "source": [
    "... we get an expression that only depends on $\\alpha$.\n",
    "\n",
    "We can simplify this expression:"
   ]
  },
  {
   "cell_type": "code",
   "execution_count": null,
   "metadata": {},
   "outputs": [],
   "source": [
    "_.simplify()"
   ]
  },
  {
   "cell_type": "markdown",
   "metadata": {},
   "source": [
    "Therefore, to get the angle $\\alpha$,\n",
    "we only have to calculate\n",
    "$\\frac{-R_{0, 1}}{R_{1, 1}}$\n",
    "and take the arc-tangent of the result.\n",
    "\n",
    "To get the right quadrant of the result,\n",
    "we will use the function [atan2()](https://en.wikipedia.org/wiki/Atan2)\n",
    "in numeric calculations:\n",
    "\n",
    "    alpha = atan2(-R[0, 1], R[1, 1])"
   ]
  },
  {
   "cell_type": "markdown",
   "metadata": {},
   "source": [
    "We can do a similar thing to get $\\gamma$:"
   ]
  },
  {
   "cell_type": "code",
   "execution_count": null,
   "metadata": {},
   "outputs": [],
   "source": [
    "-R[2, 0] / R[2, 2]"
   ]
  },
  {
   "cell_type": "code",
   "execution_count": null,
   "metadata": {},
   "outputs": [],
   "source": [
    "_.simplify()"
   ]
  },
  {
   "cell_type": "markdown",
   "metadata": {},
   "source": [
    "Similar to above,\n",
    "we take the arc-tangent of\n",
    "$\\frac{-R_{2, 0}}{R_{2, 2}}$\n",
    "to get the angle $\\gamma$.\n",
    "\n",
    "    gamma = atan2(-R[2, 0], R[2, 2])"
   ]
  },
  {
   "cell_type": "markdown",
   "metadata": {},
   "source": [
    "### Gimbal Lock\n",
    "\n",
    "But wait a second, we might have a problem:\n",
    "the dreaded [gimbal lock](https://en.wikipedia.org/wiki/Gimbal_lock)!\n",
    "\n",
    "Let's consider the case where\n",
    "$\\beta = 90°$:"
   ]
  },
  {
   "cell_type": "code",
   "execution_count": null,
   "metadata": {},
   "outputs": [],
   "source": [
    "R1 = R.subs(beta, sp.pi/2)\n",
    "R1"
   ]
  },
  {
   "cell_type": "markdown",
   "metadata": {},
   "source": [
    "If we try to calculate $\\alpha$ and $\\gamma$ like above,\n",
    "we end up calculating\n",
    "\n",
    "    atan2(0, 0)\n",
    "\n",
    "Sadly, that is not defined:"
   ]
  },
  {
   "cell_type": "code",
   "execution_count": null,
   "metadata": {},
   "outputs": [],
   "source": [
    "sp.atan2(0, 0)"
   ]
  },
  {
   "cell_type": "markdown",
   "metadata": {},
   "source": [
    "We can try to find alternative equations\n",
    "for $\\alpha$ and $\\gamma$\n",
    "from the hitherto unused matrix elements\n",
    "(but let's simplify the matrix first):"
   ]
  },
  {
   "cell_type": "code",
   "execution_count": null,
   "metadata": {},
   "outputs": [],
   "source": [
    "R1 = sp.trigsimp(R1)\n",
    "R1"
   ]
  },
  {
   "cell_type": "code",
   "execution_count": null,
   "metadata": {},
   "outputs": [],
   "source": [
    "sp.simplify(R1[1, 0] / R1[0, 0])"
   ]
  },
  {
   "cell_type": "code",
   "execution_count": null,
   "metadata": {},
   "outputs": [],
   "source": [
    "sp.simplify(R1[0, 2] / -R1[1, 2])"
   ]
  },
  {
   "cell_type": "markdown",
   "metadata": {},
   "source": [
    "There is no unique solution to these equations.\n",
    "You can freely choose either $\\alpha$ or $\\gamma$ and use that to calculate the other angle."
   ]
  },
  {
   "cell_type": "markdown",
   "metadata": {},
   "source": [
    "A very similar thing happens for\n",
    "$\\beta = -90°$:"
   ]
  },
  {
   "cell_type": "code",
   "execution_count": null,
   "metadata": {},
   "outputs": [],
   "source": [
    "R2 = R.subs(beta, -sp.pi/2)\n",
    "R2"
   ]
  },
  {
   "cell_type": "code",
   "execution_count": null,
   "metadata": {},
   "outputs": [],
   "source": [
    "R2 = sp.trigsimp(R2)\n",
    "R2"
   ]
  },
  {
   "cell_type": "code",
   "execution_count": null,
   "metadata": {},
   "outputs": [],
   "source": [
    "sp.simplify(R2[1, 0] / R2[0, 0])"
   ]
  },
  {
   "cell_type": "code",
   "execution_count": null,
   "metadata": {},
   "outputs": [],
   "source": [
    "sp.simplify(-R2[0, 2] / R2[1, 2])"
   ]
  },
  {
   "cell_type": "markdown",
   "metadata": {},
   "source": [
    "Again, there is no unique solution.\n",
    "You can freely choose one of the angles and then calculate the other one."
   ]
  },
  {
   "cell_type": "markdown",
   "metadata": {},
   "source": [
    "The easiest way to avoid this whole \"gimbal lock\" problem,\n",
    "is simply to never convert rotation matrices to angles."
   ]
  }
 ],
 "metadata": {
  "kernelspec": {
   "display_name": "Python 3",
   "language": "python",
   "name": "python3"
  },
  "language_info": {
   "codemirror_mode": {
    "name": "ipython",
    "version": 3
   },
   "file_extension": ".py",
   "mimetype": "text/x-python",
   "name": "python",
   "nbconvert_exporter": "python",
   "pygments_lexer": "ipython3",
   "version": "3.7.4"
  }
 },
 "nbformat": 4,
 "nbformat_minor": 4
}
